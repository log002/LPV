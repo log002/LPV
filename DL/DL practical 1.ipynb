{
 "cells": [
  {
   "cell_type": "code",
   "execution_count": 42,
   "id": "4f53f299",
   "metadata": {},
   "outputs": [],
   "source": [
    "import tensorflow as tf\n",
    "from tensorflow.keras.datasets import boston_housing\n",
    "from sklearn import preprocessing\n",
    "import pandas as pd"
   ]
  },
  {
   "cell_type": "code",
   "execution_count": 43,
   "id": "97513597",
   "metadata": {},
   "outputs": [],
   "source": [
    "(train_x,train_y),(test_x,test_y)=boston_housing.load_data(\n",
    "        path='boston_housing_npz',\n",
    "        test_split=0.2,\n",
    "        seed=42\n",
    ")"
   ]
  },
  {
   "cell_type": "code",
   "execution_count": 44,
   "id": "fa33859e",
   "metadata": {},
   "outputs": [
    {
     "data": {
      "text/html": [
       "<div>\n",
       "<style scoped>\n",
       "    .dataframe tbody tr th:only-of-type {\n",
       "        vertical-align: middle;\n",
       "    }\n",
       "\n",
       "    .dataframe tbody tr th {\n",
       "        vertical-align: top;\n",
       "    }\n",
       "\n",
       "    .dataframe thead th {\n",
       "        text-align: right;\n",
       "    }\n",
       "</style>\n",
       "<table border=\"1\" class=\"dataframe\">\n",
       "  <thead>\n",
       "    <tr style=\"text-align: right;\">\n",
       "      <th></th>\n",
       "      <th>0</th>\n",
       "      <th>1</th>\n",
       "      <th>2</th>\n",
       "      <th>3</th>\n",
       "      <th>4</th>\n",
       "      <th>5</th>\n",
       "      <th>6</th>\n",
       "      <th>7</th>\n",
       "      <th>8</th>\n",
       "      <th>9</th>\n",
       "      <th>10</th>\n",
       "      <th>11</th>\n",
       "      <th>12</th>\n",
       "    </tr>\n",
       "  </thead>\n",
       "  <tbody>\n",
       "    <tr>\n",
       "      <th>0</th>\n",
       "      <td>0.09178</td>\n",
       "      <td>0.0</td>\n",
       "      <td>4.05</td>\n",
       "      <td>0.0</td>\n",
       "      <td>0.510</td>\n",
       "      <td>6.416</td>\n",
       "      <td>84.1</td>\n",
       "      <td>2.6463</td>\n",
       "      <td>5.0</td>\n",
       "      <td>296.0</td>\n",
       "      <td>16.6</td>\n",
       "      <td>395.50</td>\n",
       "      <td>9.04</td>\n",
       "    </tr>\n",
       "    <tr>\n",
       "      <th>1</th>\n",
       "      <td>0.05644</td>\n",
       "      <td>40.0</td>\n",
       "      <td>6.41</td>\n",
       "      <td>1.0</td>\n",
       "      <td>0.447</td>\n",
       "      <td>6.758</td>\n",
       "      <td>32.9</td>\n",
       "      <td>4.0776</td>\n",
       "      <td>4.0</td>\n",
       "      <td>254.0</td>\n",
       "      <td>17.6</td>\n",
       "      <td>396.90</td>\n",
       "      <td>3.53</td>\n",
       "    </tr>\n",
       "    <tr>\n",
       "      <th>2</th>\n",
       "      <td>0.10574</td>\n",
       "      <td>0.0</td>\n",
       "      <td>27.74</td>\n",
       "      <td>0.0</td>\n",
       "      <td>0.609</td>\n",
       "      <td>5.983</td>\n",
       "      <td>98.8</td>\n",
       "      <td>1.8681</td>\n",
       "      <td>4.0</td>\n",
       "      <td>711.0</td>\n",
       "      <td>20.1</td>\n",
       "      <td>390.11</td>\n",
       "      <td>18.07</td>\n",
       "    </tr>\n",
       "    <tr>\n",
       "      <th>3</th>\n",
       "      <td>0.09164</td>\n",
       "      <td>0.0</td>\n",
       "      <td>10.81</td>\n",
       "      <td>0.0</td>\n",
       "      <td>0.413</td>\n",
       "      <td>6.065</td>\n",
       "      <td>7.8</td>\n",
       "      <td>5.2873</td>\n",
       "      <td>4.0</td>\n",
       "      <td>305.0</td>\n",
       "      <td>19.2</td>\n",
       "      <td>390.91</td>\n",
       "      <td>5.52</td>\n",
       "    </tr>\n",
       "    <tr>\n",
       "      <th>4</th>\n",
       "      <td>5.09017</td>\n",
       "      <td>0.0</td>\n",
       "      <td>18.10</td>\n",
       "      <td>0.0</td>\n",
       "      <td>0.713</td>\n",
       "      <td>6.297</td>\n",
       "      <td>91.8</td>\n",
       "      <td>2.3682</td>\n",
       "      <td>24.0</td>\n",
       "      <td>666.0</td>\n",
       "      <td>20.2</td>\n",
       "      <td>385.09</td>\n",
       "      <td>17.27</td>\n",
       "    </tr>\n",
       "    <tr>\n",
       "      <th>5</th>\n",
       "      <td>0.10153</td>\n",
       "      <td>0.0</td>\n",
       "      <td>12.83</td>\n",
       "      <td>0.0</td>\n",
       "      <td>0.437</td>\n",
       "      <td>6.279</td>\n",
       "      <td>74.5</td>\n",
       "      <td>4.0522</td>\n",
       "      <td>5.0</td>\n",
       "      <td>398.0</td>\n",
       "      <td>18.7</td>\n",
       "      <td>373.66</td>\n",
       "      <td>11.97</td>\n",
       "    </tr>\n",
       "    <tr>\n",
       "      <th>6</th>\n",
       "      <td>0.31827</td>\n",
       "      <td>0.0</td>\n",
       "      <td>9.90</td>\n",
       "      <td>0.0</td>\n",
       "      <td>0.544</td>\n",
       "      <td>5.914</td>\n",
       "      <td>83.2</td>\n",
       "      <td>3.9986</td>\n",
       "      <td>4.0</td>\n",
       "      <td>304.0</td>\n",
       "      <td>18.4</td>\n",
       "      <td>390.70</td>\n",
       "      <td>18.33</td>\n",
       "    </tr>\n",
       "    <tr>\n",
       "      <th>7</th>\n",
       "      <td>0.29090</td>\n",
       "      <td>0.0</td>\n",
       "      <td>21.89</td>\n",
       "      <td>0.0</td>\n",
       "      <td>0.624</td>\n",
       "      <td>6.174</td>\n",
       "      <td>93.6</td>\n",
       "      <td>1.6119</td>\n",
       "      <td>4.0</td>\n",
       "      <td>437.0</td>\n",
       "      <td>21.2</td>\n",
       "      <td>388.08</td>\n",
       "      <td>24.16</td>\n",
       "    </tr>\n",
       "    <tr>\n",
       "      <th>8</th>\n",
       "      <td>4.03841</td>\n",
       "      <td>0.0</td>\n",
       "      <td>18.10</td>\n",
       "      <td>0.0</td>\n",
       "      <td>0.532</td>\n",
       "      <td>6.229</td>\n",
       "      <td>90.7</td>\n",
       "      <td>3.0993</td>\n",
       "      <td>24.0</td>\n",
       "      <td>666.0</td>\n",
       "      <td>20.2</td>\n",
       "      <td>395.33</td>\n",
       "      <td>12.87</td>\n",
       "    </tr>\n",
       "    <tr>\n",
       "      <th>9</th>\n",
       "      <td>0.22438</td>\n",
       "      <td>0.0</td>\n",
       "      <td>9.69</td>\n",
       "      <td>0.0</td>\n",
       "      <td>0.585</td>\n",
       "      <td>6.027</td>\n",
       "      <td>79.7</td>\n",
       "      <td>2.4982</td>\n",
       "      <td>6.0</td>\n",
       "      <td>391.0</td>\n",
       "      <td>19.2</td>\n",
       "      <td>396.90</td>\n",
       "      <td>14.33</td>\n",
       "    </tr>\n",
       "  </tbody>\n",
       "</table>\n",
       "</div>"
      ],
      "text/plain": [
       "        0     1      2    3      4      5     6       7     8      9     10      11     12\n",
       "0  0.09178   0.0   4.05  0.0  0.510  6.416  84.1  2.6463   5.0  296.0  16.6  395.50   9.04\n",
       "1  0.05644  40.0   6.41  1.0  0.447  6.758  32.9  4.0776   4.0  254.0  17.6  396.90   3.53\n",
       "2  0.10574   0.0  27.74  0.0  0.609  5.983  98.8  1.8681   4.0  711.0  20.1  390.11  18.07\n",
       "3  0.09164   0.0  10.81  0.0  0.413  6.065   7.8  5.2873   4.0  305.0  19.2  390.91   5.52\n",
       "4  5.09017   0.0  18.10  0.0  0.713  6.297  91.8  2.3682  24.0  666.0  20.2  385.09  17.27\n",
       "5  0.10153   0.0  12.83  0.0  0.437  6.279  74.5  4.0522   5.0  398.0  18.7  373.66  11.97\n",
       "6  0.31827   0.0   9.90  0.0  0.544  5.914  83.2  3.9986   4.0  304.0  18.4  390.70  18.33\n",
       "7  0.29090   0.0  21.89  0.0  0.624  6.174  93.6  1.6119   4.0  437.0  21.2  388.08  24.16\n",
       "8  4.03841   0.0  18.10  0.0  0.532  6.229  90.7  3.0993  24.0  666.0  20.2  395.33  12.87\n",
       "9  0.22438   0.0   9.69  0.0  0.585  6.027  79.7  2.4982   6.0  391.0  19.2  396.90  14.33"
      ]
     },
     "execution_count": 44,
     "metadata": {},
     "output_type": "execute_result"
    }
   ],
   "source": [
    "train_x_df=pd.DataFrame(train_x)\n",
    "train_y_df=pd.DataFrame(train_y)\n",
    "\n",
    "train_x_df.head(10)"
   ]
  },
  {
   "cell_type": "code",
   "execution_count": 45,
   "id": "fb7adf2d",
   "metadata": {},
   "outputs": [
    {
     "name": "stdout",
     "output_type": "stream",
     "text": [
      "<class 'pandas.core.frame.DataFrame'>\n",
      "RangeIndex: 404 entries, 0 to 403\n",
      "Data columns (total 13 columns):\n",
      " #   Column  Non-Null Count  Dtype  \n",
      "---  ------  --------------  -----  \n",
      " 0   0       404 non-null    float64\n",
      " 1   1       404 non-null    float64\n",
      " 2   2       404 non-null    float64\n",
      " 3   3       404 non-null    float64\n",
      " 4   4       404 non-null    float64\n",
      " 5   5       404 non-null    float64\n",
      " 6   6       404 non-null    float64\n",
      " 7   7       404 non-null    float64\n",
      " 8   8       404 non-null    float64\n",
      " 9   9       404 non-null    float64\n",
      " 10  10      404 non-null    float64\n",
      " 11  11      404 non-null    float64\n",
      " 12  12      404 non-null    float64\n",
      "dtypes: float64(13)\n",
      "memory usage: 41.2 KB\n",
      "________________________________________\n",
      "<class 'pandas.core.frame.DataFrame'>\n",
      "RangeIndex: 404 entries, 0 to 403\n",
      "Data columns (total 1 columns):\n",
      " #   Column  Non-Null Count  Dtype  \n",
      "---  ------  --------------  -----  \n",
      " 0   0       404 non-null    float64\n",
      "dtypes: float64(1)\n",
      "memory usage: 3.3 KB\n"
     ]
    }
   ],
   "source": [
    "train_x_df.info()\n",
    "print('__'*20)\n",
    "train_y_df.info()"
   ]
  },
  {
   "cell_type": "code",
   "execution_count": 46,
   "id": "c7b5e974",
   "metadata": {},
   "outputs": [
    {
     "data": {
      "text/html": [
       "<div>\n",
       "<style scoped>\n",
       "    .dataframe tbody tr th:only-of-type {\n",
       "        vertical-align: middle;\n",
       "    }\n",
       "\n",
       "    .dataframe tbody tr th {\n",
       "        vertical-align: top;\n",
       "    }\n",
       "\n",
       "    .dataframe thead th {\n",
       "        text-align: right;\n",
       "    }\n",
       "</style>\n",
       "<table border=\"1\" class=\"dataframe\">\n",
       "  <thead>\n",
       "    <tr style=\"text-align: right;\">\n",
       "      <th></th>\n",
       "      <th>0</th>\n",
       "      <th>1</th>\n",
       "      <th>2</th>\n",
       "      <th>3</th>\n",
       "      <th>4</th>\n",
       "      <th>5</th>\n",
       "      <th>6</th>\n",
       "      <th>7</th>\n",
       "      <th>8</th>\n",
       "      <th>9</th>\n",
       "      <th>10</th>\n",
       "      <th>11</th>\n",
       "      <th>12</th>\n",
       "    </tr>\n",
       "  </thead>\n",
       "  <tbody>\n",
       "    <tr>\n",
       "      <th>count</th>\n",
       "      <td>404.000000</td>\n",
       "      <td>404.000000</td>\n",
       "      <td>404.000000</td>\n",
       "      <td>404.000000</td>\n",
       "      <td>404.000000</td>\n",
       "      <td>404.000000</td>\n",
       "      <td>404.000000</td>\n",
       "      <td>404.000000</td>\n",
       "      <td>404.000000</td>\n",
       "      <td>404.000000</td>\n",
       "      <td>404.000000</td>\n",
       "      <td>404.000000</td>\n",
       "      <td>404.000000</td>\n",
       "    </tr>\n",
       "    <tr>\n",
       "      <th>mean</th>\n",
       "      <td>3.789989</td>\n",
       "      <td>11.568069</td>\n",
       "      <td>11.214059</td>\n",
       "      <td>0.069307</td>\n",
       "      <td>0.554524</td>\n",
       "      <td>6.284824</td>\n",
       "      <td>69.119307</td>\n",
       "      <td>3.792258</td>\n",
       "      <td>9.660891</td>\n",
       "      <td>408.960396</td>\n",
       "      <td>18.481931</td>\n",
       "      <td>356.293020</td>\n",
       "      <td>12.825520</td>\n",
       "    </tr>\n",
       "    <tr>\n",
       "      <th>std</th>\n",
       "      <td>9.132761</td>\n",
       "      <td>24.269648</td>\n",
       "      <td>6.925462</td>\n",
       "      <td>0.254290</td>\n",
       "      <td>0.116408</td>\n",
       "      <td>0.723759</td>\n",
       "      <td>28.034606</td>\n",
       "      <td>2.142651</td>\n",
       "      <td>8.736073</td>\n",
       "      <td>169.685166</td>\n",
       "      <td>2.157322</td>\n",
       "      <td>92.058615</td>\n",
       "      <td>7.308772</td>\n",
       "    </tr>\n",
       "    <tr>\n",
       "      <th>min</th>\n",
       "      <td>0.006320</td>\n",
       "      <td>0.000000</td>\n",
       "      <td>0.460000</td>\n",
       "      <td>0.000000</td>\n",
       "      <td>0.385000</td>\n",
       "      <td>3.561000</td>\n",
       "      <td>2.900000</td>\n",
       "      <td>1.137000</td>\n",
       "      <td>1.000000</td>\n",
       "      <td>187.000000</td>\n",
       "      <td>12.600000</td>\n",
       "      <td>0.320000</td>\n",
       "      <td>1.920000</td>\n",
       "    </tr>\n",
       "    <tr>\n",
       "      <th>25%</th>\n",
       "      <td>0.081960</td>\n",
       "      <td>0.000000</td>\n",
       "      <td>5.190000</td>\n",
       "      <td>0.000000</td>\n",
       "      <td>0.452000</td>\n",
       "      <td>5.878750</td>\n",
       "      <td>45.475000</td>\n",
       "      <td>2.097050</td>\n",
       "      <td>4.000000</td>\n",
       "      <td>281.000000</td>\n",
       "      <td>17.400000</td>\n",
       "      <td>375.085000</td>\n",
       "      <td>7.092500</td>\n",
       "    </tr>\n",
       "    <tr>\n",
       "      <th>50%</th>\n",
       "      <td>0.262660</td>\n",
       "      <td>0.000000</td>\n",
       "      <td>9.690000</td>\n",
       "      <td>0.000000</td>\n",
       "      <td>0.538000</td>\n",
       "      <td>6.210000</td>\n",
       "      <td>77.500000</td>\n",
       "      <td>3.167500</td>\n",
       "      <td>5.000000</td>\n",
       "      <td>330.000000</td>\n",
       "      <td>19.100000</td>\n",
       "      <td>391.305000</td>\n",
       "      <td>11.560000</td>\n",
       "    </tr>\n",
       "    <tr>\n",
       "      <th>75%</th>\n",
       "      <td>3.717875</td>\n",
       "      <td>12.500000</td>\n",
       "      <td>18.100000</td>\n",
       "      <td>0.000000</td>\n",
       "      <td>0.624000</td>\n",
       "      <td>6.620500</td>\n",
       "      <td>94.425000</td>\n",
       "      <td>5.118000</td>\n",
       "      <td>24.000000</td>\n",
       "      <td>666.000000</td>\n",
       "      <td>20.200000</td>\n",
       "      <td>395.810000</td>\n",
       "      <td>17.167500</td>\n",
       "    </tr>\n",
       "    <tr>\n",
       "      <th>max</th>\n",
       "      <td>88.976200</td>\n",
       "      <td>100.000000</td>\n",
       "      <td>27.740000</td>\n",
       "      <td>1.000000</td>\n",
       "      <td>0.871000</td>\n",
       "      <td>8.780000</td>\n",
       "      <td>100.000000</td>\n",
       "      <td>12.126500</td>\n",
       "      <td>24.000000</td>\n",
       "      <td>711.000000</td>\n",
       "      <td>22.000000</td>\n",
       "      <td>396.900000</td>\n",
       "      <td>37.970000</td>\n",
       "    </tr>\n",
       "  </tbody>\n",
       "</table>\n",
       "</div>"
      ],
      "text/plain": [
       "               0           1           2           3   ...          9           10          11          12\n",
       "count  404.000000  404.000000  404.000000  404.000000  ...  404.000000  404.000000  404.000000  404.000000\n",
       "mean     3.789989   11.568069   11.214059    0.069307  ...  408.960396   18.481931  356.293020   12.825520\n",
       "std      9.132761   24.269648    6.925462    0.254290  ...  169.685166    2.157322   92.058615    7.308772\n",
       "min      0.006320    0.000000    0.460000    0.000000  ...  187.000000   12.600000    0.320000    1.920000\n",
       "25%      0.081960    0.000000    5.190000    0.000000  ...  281.000000   17.400000  375.085000    7.092500\n",
       "50%      0.262660    0.000000    9.690000    0.000000  ...  330.000000   19.100000  391.305000   11.560000\n",
       "75%      3.717875   12.500000   18.100000    0.000000  ...  666.000000   20.200000  395.810000   17.167500\n",
       "max     88.976200  100.000000   27.740000    1.000000  ...  711.000000   22.000000  396.900000   37.970000\n",
       "\n",
       "[8 rows x 13 columns]"
      ]
     },
     "execution_count": 46,
     "metadata": {},
     "output_type": "execute_result"
    }
   ],
   "source": [
    "train_x_df.describe()\n"
   ]
  },
  {
   "cell_type": "code",
   "execution_count": 47,
   "id": "5fe19f51",
   "metadata": {},
   "outputs": [
    {
     "name": "stdout",
     "output_type": "stream",
     "text": [
      "Train shape  (404, 13)\n",
      "Test shape  (102, 13)\n",
      "Actual Train output  (404,)\n",
      "Actual Test output  (102,)\n"
     ]
    }
   ],
   "source": [
    "print(\"Train shape \",train_x.shape)\n",
    "print(\"Test shape \",test_x.shape)\n",
    "print(\"Actual Train output \",train_y.shape)\n",
    "print(\"Actual Test output \",test_y.shape)"
   ]
  },
  {
   "cell_type": "code",
   "execution_count": 48,
   "id": "37568a5d",
   "metadata": {},
   "outputs": [
    {
     "data": {
      "text/plain": [
       "array([9.1780e-02, 0.0000e+00, 4.0500e+00, 0.0000e+00, 5.1000e-01,\n",
       "       6.4160e+00, 8.4100e+01, 2.6463e+00, 5.0000e+00, 2.9600e+02,\n",
       "       1.6600e+01, 3.9550e+02, 9.0400e+00])"
      ]
     },
     "execution_count": 48,
     "metadata": {},
     "output_type": "execute_result"
    }
   ],
   "source": [
    "train_x[0]"
   ]
  },
  {
   "cell_type": "code",
   "execution_count": 49,
   "id": "877d59a4",
   "metadata": {},
   "outputs": [
    {
     "data": {
      "text/plain": [
       "23.6"
      ]
     },
     "execution_count": 49,
     "metadata": {},
     "output_type": "execute_result"
    }
   ],
   "source": [
    "train_y[0]"
   ]
  },
  {
   "cell_type": "code",
   "execution_count": 50,
   "id": "7262b04c",
   "metadata": {},
   "outputs": [],
   "source": [
    "train_x=preprocessing.normalize(train_x)\n",
    "test_x=preprocessing.normalize(test_x)"
   ]
  },
  {
   "cell_type": "code",
   "execution_count": 51,
   "id": "0773f435",
   "metadata": {},
   "outputs": [
    {
     "data": {
      "text/plain": [
       "23.6"
      ]
     },
     "execution_count": 51,
     "metadata": {},
     "output_type": "execute_result"
    }
   ],
   "source": [
    "train_y[0]"
   ]
  },
  {
   "cell_type": "code",
   "execution_count": 52,
   "id": "4131b280",
   "metadata": {},
   "outputs": [
    {
     "data": {
      "text/plain": [
       "array([1.82991348e-04, 0.00000000e+00, 8.07490696e-03, 0.00000000e+00,\n",
       "       1.01684014e-03, 1.27922477e-02, 1.67678932e-01, 5.27620402e-03,\n",
       "       9.96902094e-03, 5.90166040e-01, 3.30971495e-02, 7.88549556e-01,\n",
       "       1.80239899e-02])"
      ]
     },
     "execution_count": 52,
     "metadata": {},
     "output_type": "execute_result"
    }
   ],
   "source": [
    "train_x[0]"
   ]
  },
  {
   "cell_type": "code",
   "execution_count": 53,
   "id": "20212016",
   "metadata": {},
   "outputs": [],
   "source": [
    "from tensorflow.keras.models import Sequential\n",
    "from tensorflow.keras.layers import *\n",
    "\n",
    "def HousePricePredictionModel():\n",
    "    model=Sequential()\n",
    "    model.add(Dense(128,activation='relu',input_shape=(train_x[0].shape)))\n",
    "    model.add(Dense(64,activation='relu'))\n",
    "    model.add(Dense(32,activation='relu'))\n",
    "    model.add(Dense(1))\n",
    "    \n",
    "    model.compile(optimizer=tf.keras.optimizers.RMSprop(learning_rate=0.01),loss=tf.keras.losses.mean_squared_error,metrics=['mse'])\n",
    "    return model\n",
    "\n"
   ]
  },
  {
   "cell_type": "code",
   "execution_count": 54,
   "id": "981fbdae",
   "metadata": {},
   "outputs": [],
   "source": [
    "import numpy as np\n",
    "k=4\n",
    "num_val_samples=len(train_x)\n",
    "num_epochs=50\n",
    "all_scores=[]"
   ]
  },
  {
   "cell_type": "code",
   "execution_count": 60,
   "id": "7947fea1",
   "metadata": {},
   "outputs": [
    {
     "name": "stderr",
     "output_type": "stream",
     "text": [
      "C:\\Users\\ilihas\\AppData\\Roaming\\Python\\Python311\\site-packages\\keras\\src\\layers\\core\\dense.py:86: UserWarning: Do not pass an `input_shape`/`input_dim` argument to a layer. When using Sequential models, prefer using an `Input(shape)` object as the first layer in the model instead.\n",
      "  super().__init__(activity_regularizer=activity_regularizer, **kwargs)\n"
     ]
    },
    {
     "name": "stdout",
     "output_type": "stream",
     "text": [
      "Epoch 1/50\n",
      "404/404 - 4s - 10ms/step - loss: 95.2439 - mse: 95.2439 - val_loss: 54.2587 - val_mse: 54.2587\n",
      "Epoch 2/50\n",
      "404/404 - 2s - 4ms/step - loss: 72.9581 - mse: 72.9581 - val_loss: 83.9418 - val_mse: 83.9418\n",
      "Epoch 3/50\n",
      "404/404 - 1s - 4ms/step - loss: 68.5417 - mse: 68.5417 - val_loss: 48.7250 - val_mse: 48.7250\n",
      "Epoch 4/50\n",
      "404/404 - 1s - 4ms/step - loss: 61.8306 - mse: 61.8306 - val_loss: 49.0635 - val_mse: 49.0635\n",
      "Epoch 5/50\n",
      "404/404 - 1s - 3ms/step - loss: 54.0748 - mse: 54.0748 - val_loss: 51.5867 - val_mse: 51.5867\n",
      "Epoch 6/50\n",
      "404/404 - 1s - 3ms/step - loss: 52.2432 - mse: 52.2432 - val_loss: 53.9343 - val_mse: 53.9343\n",
      "Epoch 7/50\n",
      "404/404 - 1s - 3ms/step - loss: 47.9952 - mse: 47.9952 - val_loss: 39.2906 - val_mse: 39.2906\n",
      "Epoch 8/50\n",
      "404/404 - 1s - 3ms/step - loss: 45.2045 - mse: 45.2045 - val_loss: 55.8196 - val_mse: 55.8196\n",
      "Epoch 9/50\n",
      "404/404 - 1s - 3ms/step - loss: 43.5150 - mse: 43.5150 - val_loss: 53.8285 - val_mse: 53.8285\n",
      "Epoch 10/50\n",
      "404/404 - 1s - 3ms/step - loss: 41.6877 - mse: 41.6877 - val_loss: 33.4488 - val_mse: 33.4488\n",
      "Epoch 11/50\n",
      "404/404 - 1s - 4ms/step - loss: 38.6956 - mse: 38.6956 - val_loss: 32.8178 - val_mse: 32.8178\n",
      "Epoch 12/50\n",
      "404/404 - 1s - 3ms/step - loss: 34.6834 - mse: 34.6834 - val_loss: 39.4854 - val_mse: 39.4854\n",
      "Epoch 13/50\n",
      "404/404 - 1s - 4ms/step - loss: 34.6294 - mse: 34.6294 - val_loss: 34.9732 - val_mse: 34.9732\n",
      "Epoch 14/50\n",
      "404/404 - 1s - 3ms/step - loss: 37.6889 - mse: 37.6889 - val_loss: 39.6067 - val_mse: 39.6067\n",
      "Epoch 15/50\n",
      "404/404 - 1s - 4ms/step - loss: 36.5920 - mse: 36.5920 - val_loss: 42.4412 - val_mse: 42.4412\n",
      "Epoch 16/50\n",
      "404/404 - 1s - 3ms/step - loss: 34.0259 - mse: 34.0259 - val_loss: 38.4207 - val_mse: 38.4207\n",
      "Epoch 17/50\n",
      "404/404 - 1s - 3ms/step - loss: 32.6344 - mse: 32.6344 - val_loss: 28.8578 - val_mse: 28.8578\n",
      "Epoch 18/50\n",
      "404/404 - 1s - 4ms/step - loss: 35.4112 - mse: 35.4112 - val_loss: 27.7217 - val_mse: 27.7217\n",
      "Epoch 19/50\n",
      "404/404 - 1s - 3ms/step - loss: 34.1540 - mse: 34.1540 - val_loss: 34.6929 - val_mse: 34.6929\n",
      "Epoch 20/50\n",
      "404/404 - 1s - 3ms/step - loss: 31.5989 - mse: 31.5989 - val_loss: 28.2973 - val_mse: 28.2973\n",
      "Epoch 21/50\n",
      "404/404 - 1s - 4ms/step - loss: 32.6617 - mse: 32.6617 - val_loss: 27.5467 - val_mse: 27.5467\n",
      "Epoch 22/50\n",
      "404/404 - 1s - 4ms/step - loss: 29.4508 - mse: 29.4508 - val_loss: 64.0077 - val_mse: 64.0077\n",
      "Epoch 23/50\n",
      "404/404 - 1s - 3ms/step - loss: 30.8677 - mse: 30.8677 - val_loss: 24.3737 - val_mse: 24.3737\n",
      "Epoch 24/50\n",
      "404/404 - 1s - 4ms/step - loss: 29.8634 - mse: 29.8634 - val_loss: 30.9893 - val_mse: 30.9893\n",
      "Epoch 25/50\n",
      "404/404 - 1s - 3ms/step - loss: 30.0618 - mse: 30.0618 - val_loss: 32.2820 - val_mse: 32.2820\n",
      "Epoch 26/50\n",
      "404/404 - 1s - 4ms/step - loss: 30.4178 - mse: 30.4178 - val_loss: 34.7189 - val_mse: 34.7189\n",
      "Epoch 27/50\n",
      "404/404 - 1s - 4ms/step - loss: 32.9204 - mse: 32.9204 - val_loss: 25.8153 - val_mse: 25.8153\n",
      "Epoch 28/50\n",
      "404/404 - 2s - 4ms/step - loss: 30.1841 - mse: 30.1841 - val_loss: 23.9953 - val_mse: 23.9953\n",
      "Epoch 29/50\n",
      "404/404 - 1s - 4ms/step - loss: 29.5395 - mse: 29.5395 - val_loss: 42.1998 - val_mse: 42.1998\n",
      "Epoch 30/50\n",
      "404/404 - 2s - 4ms/step - loss: 29.5622 - mse: 29.5622 - val_loss: 26.6246 - val_mse: 26.6246\n",
      "Epoch 31/50\n",
      "404/404 - 1s - 4ms/step - loss: 29.9196 - mse: 29.9196 - val_loss: 28.5462 - val_mse: 28.5462\n",
      "Epoch 32/50\n",
      "404/404 - 1s - 4ms/step - loss: 29.5751 - mse: 29.5751 - val_loss: 25.6029 - val_mse: 25.6029\n",
      "Epoch 33/50\n",
      "404/404 - 2s - 4ms/step - loss: 26.6725 - mse: 26.6725 - val_loss: 26.6542 - val_mse: 26.6542\n",
      "Epoch 34/50\n",
      "404/404 - 2s - 4ms/step - loss: 27.7170 - mse: 27.7170 - val_loss: 28.8712 - val_mse: 28.8712\n",
      "Epoch 35/50\n",
      "404/404 - 1s - 4ms/step - loss: 27.1636 - mse: 27.1636 - val_loss: 42.8047 - val_mse: 42.8047\n",
      "Epoch 36/50\n",
      "404/404 - 1s - 3ms/step - loss: 27.8951 - mse: 27.8951 - val_loss: 24.1891 - val_mse: 24.1891\n",
      "Epoch 37/50\n",
      "404/404 - 1s - 4ms/step - loss: 28.4411 - mse: 28.4411 - val_loss: 33.0884 - val_mse: 33.0884\n",
      "Epoch 38/50\n",
      "404/404 - 1s - 4ms/step - loss: 27.6959 - mse: 27.6959 - val_loss: 23.1806 - val_mse: 23.1806\n",
      "Epoch 39/50\n",
      "404/404 - 1s - 4ms/step - loss: 27.3958 - mse: 27.3958 - val_loss: 27.8286 - val_mse: 27.8286\n",
      "Epoch 40/50\n",
      "404/404 - 1s - 3ms/step - loss: 28.1302 - mse: 28.1302 - val_loss: 32.1346 - val_mse: 32.1346\n",
      "Epoch 41/50\n",
      "404/404 - 1s - 4ms/step - loss: 29.0908 - mse: 29.0908 - val_loss: 34.9174 - val_mse: 34.9174\n",
      "Epoch 42/50\n",
      "404/404 - 1s - 4ms/step - loss: 28.7955 - mse: 28.7955 - val_loss: 27.2645 - val_mse: 27.2645\n",
      "Epoch 43/50\n",
      "404/404 - 1s - 4ms/step - loss: 27.6942 - mse: 27.6942 - val_loss: 27.8555 - val_mse: 27.8555\n",
      "Epoch 44/50\n",
      "404/404 - 1s - 3ms/step - loss: 26.4521 - mse: 26.4521 - val_loss: 27.3401 - val_mse: 27.3401\n",
      "Epoch 45/50\n",
      "404/404 - 1s - 4ms/step - loss: 26.4882 - mse: 26.4882 - val_loss: 62.3890 - val_mse: 62.3890\n",
      "Epoch 46/50\n",
      "404/404 - 1s - 3ms/step - loss: 26.0294 - mse: 26.0294 - val_loss: 25.8468 - val_mse: 25.8468\n",
      "Epoch 47/50\n",
      "404/404 - 1s - 3ms/step - loss: 27.8823 - mse: 27.8823 - val_loss: 35.4714 - val_mse: 35.4714\n",
      "Epoch 48/50\n",
      "404/404 - 1s - 4ms/step - loss: 26.1476 - mse: 26.1476 - val_loss: 43.8307 - val_mse: 43.8307\n",
      "Epoch 49/50\n",
      "404/404 - 1s - 4ms/step - loss: 26.9490 - mse: 26.9490 - val_loss: 24.8526 - val_mse: 24.8526\n",
      "Epoch 50/50\n",
      "404/404 - 1s - 3ms/step - loss: 26.9182 - mse: 26.9182 - val_loss: 36.1272 - val_mse: 36.1272\n"
     ]
    }
   ],
   "source": [
    "model=HousePricePredictionModel()\n",
    "history=model.fit(x=train_x,y=train_y,epochs=num_epochs,batch_size=1,verbose=2,validation_data=(test_x,test_y))"
   ]
  },
  {
   "cell_type": "code",
   "execution_count": 61,
   "id": "ed6a82ab",
   "metadata": {},
   "outputs": [
    {
     "data": {
      "text/plain": [
       "22.50569306930693"
      ]
     },
     "execution_count": 61,
     "metadata": {},
     "output_type": "execute_result"
    }
   ],
   "source": [
    "train_y.mean()\n"
   ]
  },
  {
   "cell_type": "code",
   "execution_count": 62,
   "id": "063c1172",
   "metadata": {},
   "outputs": [
    {
     "name": "stdout",
     "output_type": "stream",
     "text": [
      "Evaluation on test data\n",
      "\u001b[1m4/4\u001b[0m \u001b[32m━━━━━━━━━━━━━━━━━━━━\u001b[0m\u001b[37m\u001b[0m \u001b[1m0s\u001b[0m 6ms/step - loss: 33.4796 - mse: 33.4796  \n"
     ]
    }
   ],
   "source": [
    "print(\"Evaluation on test data\")\n",
    "loss,mse=model.evaluate(test_x,test_y,batch_size=32)"
   ]
  },
  {
   "cell_type": "code",
   "execution_count": 63,
   "id": "32d09ed9",
   "metadata": {},
   "outputs": [],
   "source": [
    "\n",
    "import matplotlib.pyplot as plt"
   ]
  },
  {
   "cell_type": "code",
   "execution_count": 64,
   "id": "43b8690d",
   "metadata": {},
   "outputs": [
    {
     "data": {
      "image/png": "[encoded data removed]",
      "text/plain": [
       "<Figure size 600x400 with 1 Axes>"
      ]
     },
     "metadata": {},
     "output_type": "display_data"
    }
   ],
   "source": [
    "pd.DataFrame(history.history).plot(figsize=(6,4),xlabel=\"Epochs\",ylabel=\"Loss\",title=\"loss Curves\")\n",
    "plt.show()"
   ]
  },
  {
   "cell_type": "code",
   "execution_count": null,
   "id": "8572d112",
   "metadata": {},
   "outputs": [],
   "source": []
  }
 ],
 "metadata": {
  "kernelspec": {
   "display_name": "Python 3 (ipykernel)",
   "language": "python",
   "name": "python3"
  },
  "language_info": {
   "codemirror_mode": {
    "name": "ipython",
    "version": 3
   },
   "file_extension": ".py",
   "mimetype": "text/x-python",
   "name": "python",
   "nbconvert_exporter": "python",
   "pygments_lexer": "ipython3",
   "version": "3.11.3"
  }
 },
 "nbformat": 4,
 "nbformat_minor": 5
}
